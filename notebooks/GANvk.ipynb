{
  "metadata": {
    "colab": {
      "provenance": [],
      "collapsed_sections": []
    },
    "kernelspec": {
      "name": "python3",
      "display_name": "Python 3",
      "language": "python"
    },
    "language_info": {
      "name": "python",
      "version": "3.7.12",
      "mimetype": "text/x-python",
      "codemirror_mode": {
        "name": "ipython",
        "version": 3
      },
      "pygments_lexer": "ipython3",
      "nbconvert_exporter": "python",
      "file_extension": ".py"
    },
    "accelerator": "GPU"
  },
  "nbformat_minor": 0,
  "nbformat": 4,
  "cells": [
    {
      "cell_type": "code",
      "source": [
        "import pandas as pd\n",
        "from tqdm import tqdm\n"
      ],
      "metadata": {
        "id": "G-cqUKAva60F",
        "execution": {
          "iopub.status.busy": "2022-10-20T11:59:37.398365Z",
          "iopub.execute_input": "2022-10-20T11:59:37.398885Z",
          "iopub.status.idle": "2022-10-20T11:59:37.403649Z",
          "shell.execute_reply.started": "2022-10-20T11:59:37.398858Z",
          "shell.execute_reply": "2022-10-20T11:59:37.402385Z"
        },
        "trusted": true
      },
      "execution_count": null,
      "outputs": []
    },
    {
      "cell_type": "code",
      "source": [
        "!git clone https://git.miem.hse.ru/gakirichenko1/vkgan.git"
      ],
      "metadata": {
        "id": "O-MqqrWu6vHc"
      },
      "execution_count": null,
      "outputs": []
    },
    {
      "cell_type": "code",
      "source": [
        "!mkdir images\n",
        "!mv archive.zip images\n"
      ],
      "metadata": {
        "id": "xPknAckAKgzl"
      },
      "execution_count": null,
      "outputs": []
    },
    {
      "cell_type": "code",
      "source": [
        "!wget https://download.pytorch.org/whl/cu111/torch-1.9.0%2Bcu111-cp37-cp37m-linux_x86_64.whl\n",
        "!wget https://download.pytorch.org/whl/cu111/torchvision-0.10.0%2Bcu111-cp37-cp37m-linux_x86_64.whl  "
      ],
      "metadata": {
        "colab": {
          "base_uri": "https://localhost:8080/"
        },
        "id": "EQiuTWE9LOPy",
        "outputId": "f6d62ac5-7f66-46a5-abbd-454feedfc006"
      },
      "execution_count": null,
      "outputs": [
        {
          "output_type": "stream",
          "name": "stdout",
          "text": "--2022-10-20 11:35:05--  https://download.pytorch.org/whl/cu111/torch-1.9.0%2Bcu111-cp37-cp37m-linux_x86_64.whl\n\nResolving download.pytorch.org (download.pytorch.org)... 99.86.38.106, 99.86.38.37, 99.86.38.96, ...\n\nConnecting to download.pytorch.org (download.pytorch.org)|99.86.38.106|:443... connected.\n\nHTTP request sent, awaiting response... 200 OK\n\nLength: 2041342154 (1.9G) [binary/octet-stream]\n\nSaving to: ‘torch-1.9.0+cu111-cp37-cp37m-linux_x86_64.whl’\n\n\n\ntorch-1.9.0+cu111-c 100%[===================>]   1.90G  31.5MB/s    in 17s     \n\n\n\n2022-10-20 11:35:22 (115 MB/s) - ‘torch-1.9.0+cu111-cp37-cp37m-linux_x86_64.whl’ saved [2041342154/2041342154]\n\n\n\n--2022-10-20 11:35:22--  https://download.pytorch.org/whl/cu111/torchvision-0.10.0%2Bcu111-cp37-cp37m-linux_x86_64.whl\n\nResolving download.pytorch.org (download.pytorch.org)... 18.65.229.70, 18.65.229.67, 18.65.229.14, ...\n\nConnecting to download.pytorch.org (download.pytorch.org)|18.65.229.70|:443... connected.\n\nHTTP request sent, awaiting response... 200 OK\n\nLength: 23185811 (22M) [binary/octet-stream]\n\nSaving to: ‘torchvision-0.10.0+cu111-cp37-cp37m-linux_x86_64.whl’\n\n\n\ntorchvision-0.10.0+ 100%[===================>]  22.11M  56.3MB/s    in 0.4s    \n\n\n\n2022-10-20 11:35:23 (56.3 MB/s) - ‘torchvision-0.10.0+cu111-cp37-cp37m-linux_x86_64.whl’ saved [23185811/23185811]\n\n\n"
        }
      ]
    },
    {
      "cell_type": "code",
      "source": [
        "!pip install *.whl"
      ],
      "metadata": {
        "colab": {
          "base_uri": "https://localhost:8080/",
          "height": 436
        },
        "id": "49h5GBNJLXbi",
        "outputId": "04e841f2-b689-4f55-f337-d88c725702e8"
      },
      "execution_count": null,
      "outputs": [
        {
          "output_type": "stream",
          "name": "stdout",
          "text": "Looking in indexes: https://pypi.org/simple, https://us-python.pkg.dev/colab-wheels/public/simple/\n\nProcessing ./torch-1.9.0+cu111-cp37-cp37m-linux_x86_64.whl\n\nProcessing ./torchvision-0.10.0+cu111-cp37-cp37m-linux_x86_64.whl\n\nRequirement already satisfied: typing-extensions in /usr/local/lib/python3.7/dist-packages (from torch==1.9.0+cu111) (4.1.1)\n\nRequirement already satisfied: numpy in /usr/local/lib/python3.7/dist-packages (from torchvision==0.10.0+cu111) (1.21.6)\n\nRequirement already satisfied: pillow>=5.3.0 in /usr/local/lib/python3.7/dist-packages (from torchvision==0.10.0+cu111) (7.1.2)\n\nInstalling collected packages: torch, torchvision\n\n  Attempting uninstall: torch\n\n    Found existing installation: torch 1.12.1+cu113\n\n    Uninstalling torch-1.12.1+cu113:\n\n      Successfully uninstalled torch-1.12.1+cu113\n\n  Attempting uninstall: torchvision\n\n    Found existing installation: torchvision 0.13.1+cu113\n\n    Uninstalling torchvision-0.13.1+cu113:\n\n      Successfully uninstalled torchvision-0.13.1+cu113\n\n\u001b[31mERROR: pip's dependency resolver does not currently take into account all the packages that are installed. This behaviour is the source of the following dependency conflicts.\n\ntorchtext 0.13.1 requires torch==1.12.1, but you have torch 1.9.0+cu111 which is incompatible.\n\ntorchaudio 0.12.1+cu113 requires torch==1.12.1, but you have torch 1.9.0+cu111 which is incompatible.\u001b[0m\n\nSuccessfully installed torch-1.9.0+cu111 torchvision-0.10.0+cu111\n"
        },
        {
          "output_type": "display_data",
          "data": {
            "application/vnd.colab-display-data+json": {
              "pip_warning": {
                "packages": [
                  "torch",
                  "torchvision"
                ]
              }
            }
          },
          "metadata": {}
        }
      ]
    },
    {
      "cell_type": "code",
      "source": [
        "import torch\n",
        "print(\"Pytorch version：\")\n",
        "print(torch.__version__)\n"
      ],
      "metadata": {
        "colab": {
          "base_uri": "https://localhost:8080/"
        },
        "id": "mf1_04QeMFTm",
        "outputId": "7137b59b-58ce-4090-acb0-81b70a618f01",
        "execution": {
          "iopub.status.busy": "2022-10-20T11:59:46.916781Z",
          "iopub.execute_input": "2022-10-20T11:59:46.917803Z",
          "iopub.status.idle": "2022-10-20T11:59:48.839513Z",
          "shell.execute_reply.started": "2022-10-20T11:59:46.917766Z",
          "shell.execute_reply": "2022-10-20T11:59:48.838403Z"
        },
        "trusted": true
      },
      "execution_count": null,
      "outputs": [
        {
          "name": "stdout",
          "text": "Pytorch version：\n1.11.0\n",
          "output_type": "stream"
        }
      ]
    },
    {
      "cell_type": "code",
      "source": [
        "!unzip /content/images/archive.zip"
      ],
      "metadata": {
        "id": "141mC_0U1whW"
      },
      "execution_count": null,
      "outputs": []
    },
    {
      "cell_type": "code",
      "source": [
        "import os\n",
        "import random\n",
        "import glob\n",
        "import shutil\n",
        "import warnings\n",
        "\n",
        "import numpy as np\n",
        "from PIL import Image\n",
        "\n",
        "import torch\n",
        "import torch.nn as nn\n",
        "import torch.nn.functional as F\n",
        "from torch.nn.utils import spectral_norm\n",
        "from torch.optim import Adam\n",
        "from torch.optim.lr_scheduler import LambdaLR\n"
      ],
      "metadata": {
        "id": "eyPdzIcRYf9l",
        "execution": {
          "iopub.status.busy": "2022-10-20T12:00:10.941351Z",
          "iopub.execute_input": "2022-10-20T12:00:10.941853Z",
          "iopub.status.idle": "2022-10-20T12:00:12.590569Z",
          "shell.execute_reply.started": "2022-10-20T12:00:10.941823Z",
          "shell.execute_reply": "2022-10-20T12:00:12.589632Z"
        },
        "trusted": true
      },
      "execution_count": null,
      "outputs": []
    },
    {
      "cell_type": "code",
      "source": [
        "from torch.utils.data import Dataset, DataLoader\n",
        "from torch.nn import Conv2d, BCEWithLogitsLoss, DataParallel, AvgPool2d, ModuleList, LeakyReLU, ConvTranspose2d, Embedding\n"
      ],
      "metadata": {
        "id": "0LF7KY5yyezo",
        "execution": {
          "iopub.status.busy": "2022-10-20T12:00:15.502893Z",
          "iopub.execute_input": "2022-10-20T12:00:15.503294Z",
          "iopub.status.idle": "2022-10-20T12:00:15.513544Z",
          "shell.execute_reply.started": "2022-10-20T12:00:15.503260Z",
          "shell.execute_reply": "2022-10-20T12:00:15.512629Z"
        },
        "trusted": true
      },
      "execution_count": null,
      "outputs": []
    },
    {
      "cell_type": "code",
      "source": [
        "torch.cuda.is_available()"
      ],
      "metadata": {
        "colab": {
          "base_uri": "https://localhost:8080/"
        },
        "id": "MDvmpCeJC-SY",
        "outputId": "cc8f5cc3-197a-4d31-dc0f-4e0e78c0959a",
        "execution": {
          "iopub.status.busy": "2022-10-20T12:00:18.489162Z",
          "iopub.execute_input": "2022-10-20T12:00:18.489878Z",
          "iopub.status.idle": "2022-10-20T12:00:18.572297Z",
          "shell.execute_reply.started": "2022-10-20T12:00:18.489842Z",
          "shell.execute_reply": "2022-10-20T12:00:18.571267Z"
        },
        "trusted": true
      },
      "execution_count": null,
      "outputs": [
        {
          "execution_count": 6,
          "output_type": "execute_result",
          "data": {
            "text/plain": "True"
          },
          "metadata": {}
        }
      ]
    },
    {
      "cell_type": "code",
      "source": [
        "class config:\n",
        "  batch_size = 64 if torch.cuda.is_available() else 4\n",
        "  latent_dim = 120"
      ],
      "metadata": {
        "id": "NrxoF-8w2kQH",
        "execution": {
          "iopub.status.busy": "2022-10-20T12:00:19.372827Z",
          "iopub.execute_input": "2022-10-20T12:00:19.373188Z",
          "iopub.status.idle": "2022-10-20T12:00:19.378343Z",
          "shell.execute_reply.started": "2022-10-20T12:00:19.373149Z",
          "shell.execute_reply": "2022-10-20T12:00:19.377120Z"
        },
        "trusted": true
      },
      "execution_count": null,
      "outputs": []
    },
    {
      "cell_type": "code",
      "source": [
        "import pandas as pd\n",
        "df = pd.DataFrame(columns = ['path', 'label'])"
      ],
      "metadata": {
        "id": "DW8UBh0Lhb38",
        "execution": {
          "iopub.status.busy": "2022-10-20T12:08:00.114930Z",
          "iopub.execute_input": "2022-10-20T12:08:00.115328Z",
          "iopub.status.idle": "2022-10-20T12:08:00.122825Z",
          "shell.execute_reply.started": "2022-10-20T12:08:00.115295Z",
          "shell.execute_reply": "2022-10-20T12:08:00.121386Z"
        },
        "trusted": true
      },
      "execution_count": null,
      "outputs": []
    },
    {
      "cell_type": "code",
      "source": [
        "for dir in glob.glob('../input/pokemon-image-dataset/images/' + '*'):\n",
        "  for files in glob.glob(f'{dir}/*'):\n",
        "    df.loc[len(df)] = [files,dir.split('/')[1]]"
      ],
      "metadata": {
        "id": "S_dNXGjs9ytg",
        "execution": {
          "iopub.status.busy": "2022-10-20T12:08:13.842114Z",
          "iopub.execute_input": "2022-10-20T12:08:13.843242Z",
          "iopub.status.idle": "2022-10-20T12:08:19.102241Z",
          "shell.execute_reply.started": "2022-10-20T12:08:13.843179Z",
          "shell.execute_reply": "2022-10-20T12:08:19.101147Z"
        },
        "trusted": true
      },
      "execution_count": null,
      "outputs": []
    },
    {
      "cell_type": "code",
      "source": [
        "df.head(5)"
      ],
      "metadata": {
        "execution": {
          "iopub.status.busy": "2022-10-20T12:08:21.647579Z",
          "iopub.execute_input": "2022-10-20T12:08:21.647943Z",
          "iopub.status.idle": "2022-10-20T12:08:21.659091Z",
          "shell.execute_reply.started": "2022-10-20T12:08:21.647912Z",
          "shell.execute_reply": "2022-10-20T12:08:21.657777Z"
        },
        "trusted": true,
        "id": "j0UOAbdG1whb",
        "outputId": "c733d70a-8954-46f0-e664-a66c4233dc4f"
      },
      "execution_count": null,
      "outputs": [
        {
          "execution_count": 41,
          "output_type": "execute_result",
          "data": {
            "text/plain": "                                                path  label\n0  ../input/pokemon-image-dataset/images/Whimsico...  input\n1  ../input/pokemon-image-dataset/images/Whimsico...  input\n2  ../input/pokemon-image-dataset/images/Forretre...  input\n3  ../input/pokemon-image-dataset/images/Forretre...  input\n4  ../input/pokemon-image-dataset/images/Forretre...  input",
            "text/html": "<div>\n<style scoped>\n    .dataframe tbody tr th:only-of-type {\n        vertical-align: middle;\n    }\n\n    .dataframe tbody tr th {\n        vertical-align: top;\n    }\n\n    .dataframe thead th {\n        text-align: right;\n    }\n</style>\n<table border=\"1\" class=\"dataframe\">\n  <thead>\n    <tr style=\"text-align: right;\">\n      <th></th>\n      <th>path</th>\n      <th>label</th>\n    </tr>\n  </thead>\n  <tbody>\n    <tr>\n      <th>0</th>\n      <td>../input/pokemon-image-dataset/images/Whimsico...</td>\n      <td>input</td>\n    </tr>\n    <tr>\n      <th>1</th>\n      <td>../input/pokemon-image-dataset/images/Whimsico...</td>\n      <td>input</td>\n    </tr>\n    <tr>\n      <th>2</th>\n      <td>../input/pokemon-image-dataset/images/Forretre...</td>\n      <td>input</td>\n    </tr>\n    <tr>\n      <th>3</th>\n      <td>../input/pokemon-image-dataset/images/Forretre...</td>\n      <td>input</td>\n    </tr>\n    <tr>\n      <th>4</th>\n      <td>../input/pokemon-image-dataset/images/Forretre...</td>\n      <td>input</td>\n    </tr>\n  </tbody>\n</table>\n</div>"
          },
          "metadata": {}
        }
      ]
    },
    {
      "cell_type": "code",
      "source": [
        "class GANDataset(Dataset):\n",
        "    def __init__(self, df, transform = None):\n",
        "        self.df = df\n",
        "        self.transform = transform\n",
        "            \n",
        "    def __len__(self):\n",
        "        return len(self.df)\n",
        "\n",
        "    def __getitem__(self,idx):\n",
        "      image = self.df.loc[idx]\n",
        "      img = Image.open(image.path)  \n",
        "      if self.transform:\n",
        "        img = self.transform(img)\n",
        "      return img \n",
        "      \n",
        "\n",
        " "
      ],
      "metadata": {
        "id": "l8gBOeTIcoTq",
        "execution": {
          "iopub.status.busy": "2022-10-20T12:08:26.631133Z",
          "iopub.execute_input": "2022-10-20T12:08:26.632244Z",
          "iopub.status.idle": "2022-10-20T12:08:26.639766Z",
          "shell.execute_reply.started": "2022-10-20T12:08:26.632173Z",
          "shell.execute_reply": "2022-10-20T12:08:26.638240Z"
        },
        "trusted": true
      },
      "execution_count": null,
      "outputs": []
    },
    {
      "cell_type": "code",
      "source": [
        "from torchvision import transforms\n",
        "train_augmentation = transforms.Compose([\n",
        "        transforms.Resize(size = (128,128)),\n",
        "        transforms.ToTensor()\n",
        "    ])"
      ],
      "metadata": {
        "id": "sANox2i7dDJe",
        "execution": {
          "iopub.status.busy": "2022-10-20T12:08:26.816072Z",
          "iopub.execute_input": "2022-10-20T12:08:26.816893Z",
          "iopub.status.idle": "2022-10-20T12:08:26.824239Z",
          "shell.execute_reply.started": "2022-10-20T12:08:26.816861Z",
          "shell.execute_reply": "2022-10-20T12:08:26.823073Z"
        },
        "trusted": true
      },
      "execution_count": null,
      "outputs": []
    },
    {
      "cell_type": "code",
      "source": [
        "train_data = GANDataset(df,transform = train_augmentation)"
      ],
      "metadata": {
        "id": "kxcnSA7ToltD",
        "execution": {
          "iopub.status.busy": "2022-10-20T12:08:27.119903Z",
          "iopub.execute_input": "2022-10-20T12:08:27.120584Z",
          "iopub.status.idle": "2022-10-20T12:08:27.125455Z",
          "shell.execute_reply.started": "2022-10-20T12:08:27.120542Z",
          "shell.execute_reply": "2022-10-20T12:08:27.124495Z"
        },
        "trusted": true
      },
      "execution_count": null,
      "outputs": []
    },
    {
      "cell_type": "code",
      "source": [
        "train_data[0].shape"
      ],
      "metadata": {
        "execution": {
          "iopub.status.busy": "2022-10-20T12:08:31.683597Z",
          "iopub.execute_input": "2022-10-20T12:08:31.684410Z",
          "iopub.status.idle": "2022-10-20T12:08:31.697763Z",
          "shell.execute_reply.started": "2022-10-20T12:08:31.684376Z",
          "shell.execute_reply": "2022-10-20T12:08:31.696282Z"
        },
        "trusted": true,
        "id": "XgZB2ScM1whd",
        "outputId": "cbbd60ee-e5b5-4ac9-ecfd-fa109d5d131a"
      },
      "execution_count": null,
      "outputs": [
        {
          "execution_count": 46,
          "output_type": "execute_result",
          "data": {
            "text/plain": "torch.Size([3, 128, 128])"
          },
          "metadata": {}
        }
      ]
    },
    {
      "cell_type": "code",
      "source": [
        "train_loader = DataLoader(train_data, batch_size = config.batch_size)"
      ],
      "metadata": {
        "id": "WYT1uhzLEjjf",
        "execution": {
          "iopub.status.busy": "2022-10-20T12:08:36.441639Z",
          "iopub.execute_input": "2022-10-20T12:08:36.442003Z",
          "iopub.status.idle": "2022-10-20T12:08:36.447135Z",
          "shell.execute_reply.started": "2022-10-20T12:08:36.441973Z",
          "shell.execute_reply": "2022-10-20T12:08:36.445912Z"
        },
        "trusted": true
      },
      "execution_count": null,
      "outputs": []
    },
    {
      "cell_type": "code",
      "source": [
        "##################################\n",
        "units=[32,64,128,256,512,1024]\n",
        "padding=[2,2,2,2,2]\n",
        "k_size=[5,5,5,5,5]#kernal size\n",
        "strides=[2,2,2,2,2]\n",
        "fs=[8,8]\n",
        "image_size=[3,128,128]\n",
        "small_image_size=[3,57,57]\n",
        "#################################"
      ],
      "metadata": {
        "id": "Ukr8VY-xJ6PI",
        "execution": {
          "iopub.status.busy": "2022-10-20T12:00:55.495468Z",
          "iopub.execute_input": "2022-10-20T12:00:55.496540Z",
          "iopub.status.idle": "2022-10-20T12:00:55.503420Z",
          "shell.execute_reply.started": "2022-10-20T12:00:55.496490Z",
          "shell.execute_reply": "2022-10-20T12:00:55.502266Z"
        },
        "trusted": true
      },
      "execution_count": null,
      "outputs": []
    },
    {
      "cell_type": "code",
      "source": [
        "class G_net(nn.Module):\n",
        "    def __init__(self,in_dim=config.latent_dim):\n",
        "        super(G_net,self).__init__()\n",
        "        self.fc1= nn.Sequential(\n",
        "            nn.Linear(in_dim,units[4]),\n",
        "            nn.ReLU(),\n",
        "            nn.Linear(units[4],units[3]*fs[0]*fs[1]),\n",
        "            nn.ReLU(),\n",
        "            nn.BatchNorm1d(units[3]*fs[0]*fs[1])\n",
        "        )\n",
        "        self.ct1 = nn.Sequential(\n",
        "            nn.ConvTranspose2d(units[3],units[2],k_size[3],stride=strides[3],padding=padding[3],output_padding=strides[3]//2),\n",
        "            nn.BatchNorm2d(units[2]),\n",
        "            nn.ReLU()\n",
        "        )#[64,12,12]\n",
        "        self.ct2 = nn.Sequential(\n",
        "            nn.ConvTranspose2d(units[2],units[1],k_size[2],stride=strides[2],padding=padding[2],output_padding=strides[2]//2),\n",
        "            nn.BatchNorm2d(units[1]),\n",
        "            nn.ReLU()\n",
        "        )#[32,27,27]\n",
        "        self.ct3 = nn.Sequential(\n",
        "            nn.ConvTranspose2d(units[1],units[0],k_size[1],stride=strides[1],padding=padding[1],output_padding=strides[1]//2),\n",
        "            nn.BatchNorm2d(units[0]),\n",
        "            nn.ReLU()\n",
        "        )#[3,57,57]\n",
        "        self.ct4 = nn.Sequential(\n",
        "            nn.ConvTranspose2d(units[0],small_image_size[0],k_size[0],stride=strides[0],padding=padding[0],output_padding=strides[0]//2),\n",
        "            nn.Tanh()\n",
        "        )#[3,289,289]\n",
        "    def forward(self,X):\n",
        "        X = self.fc1(X)\n",
        "        X = self.ct1(X.view(-1,units[3],fs[0],fs[1]))\n",
        "        X = self.ct2(X)\n",
        "        X = self.ct3(X)\n",
        "        return self.ct4(X)"
      ],
      "metadata": {
        "id": "wXRPVzVXJ4lE",
        "execution": {
          "iopub.status.busy": "2022-10-20T12:00:56.506478Z",
          "iopub.execute_input": "2022-10-20T12:00:56.506887Z",
          "iopub.status.idle": "2022-10-20T12:00:56.525403Z",
          "shell.execute_reply.started": "2022-10-20T12:00:56.506852Z",
          "shell.execute_reply": "2022-10-20T12:00:56.524405Z"
        },
        "trusted": true
      },
      "execution_count": null,
      "outputs": []
    },
    {
      "cell_type": "code",
      "source": [
        "class D_net(nn.Module):\n",
        "    def __init__(self):\n",
        "        super(D_net,self).__init__()\n",
        "        self.conv1=nn.Sequential(\n",
        "            nn.Conv2d(image_size[0],units[0],k_size[0],strides[0],padding=padding[0]),\n",
        "            nn.BatchNorm2d(units[0]),\n",
        "            nn.LeakyReLU(0.2)\n",
        "        )\n",
        "        self.conv2=nn.Sequential(\n",
        "            nn.Conv2d(units[0],units[1],k_size[1],strides[1],padding=padding[1]),\n",
        "            nn.BatchNorm2d(units[1]),\n",
        "            nn.LeakyReLU(0.2)\n",
        "        )\n",
        "        self.conv3=nn.Sequential(\n",
        "            nn.Conv2d(units[1],units[2],k_size[2],strides[2],padding=padding[2]),\n",
        "            nn.BatchNorm2d(units[2]),\n",
        "            nn.LeakyReLU(0.2)\n",
        "        )\n",
        "        self.conv4=nn.Sequential(\n",
        "            nn.Conv2d(units[2],units[3],k_size[3],strides[3],padding=padding[3]),\n",
        "            nn.BatchNorm2d(units[3]),\n",
        "            nn.LeakyReLU(0.2)\n",
        "        )\n",
        "        self.fc1 = nn.Linear(units[3]*fs[0]*fs[1],units[4])\n",
        "        self.dp = nn.Dropout(0.5)\n",
        "        self.d_out = nn.Linear(units[4],1)\n",
        "    def forward(self,X):\n",
        "        X = self.conv1(X)\n",
        "        X = self.conv2(X)\n",
        "        X = self.conv3(X)\n",
        "        X = self.conv4(X)\n",
        "        X = X.view((-1,units[3]*fs[0]*fs[1]))\n",
        "        X = self.dp(F.leaky_relu(self.fc1(X)))\n",
        "        out = self.d_out(X)\n",
        "        return out"
      ],
      "metadata": {
        "id": "kX1MNFelC1VW",
        "execution": {
          "iopub.status.busy": "2022-10-20T12:00:58.710068Z",
          "iopub.execute_input": "2022-10-20T12:00:58.710737Z",
          "iopub.status.idle": "2022-10-20T12:00:58.723414Z",
          "shell.execute_reply.started": "2022-10-20T12:00:58.710702Z",
          "shell.execute_reply": "2022-10-20T12:00:58.722329Z"
        },
        "trusted": true
      },
      "execution_count": null,
      "outputs": []
    },
    {
      "cell_type": "code",
      "source": [
        "def weights_init(m):\n",
        "    classname = m.__class__.__name__\n",
        "    if classname.find('Conv') != -1:\n",
        "        m.weight.data.normal_(0.0, 0.02)\n",
        "    elif classname.find('BatchNorm') != -1:\n",
        "        m.weight.data.normal_(1.0, 0.02)\n",
        "        m.bias.data.fill_(0)\n",
        "d_model = D_net().to(device)\n",
        "g_model = G_net(config.latent_dim).to(device)\n",
        "d_model.apply(weights_init)\n",
        "g_model.apply(weights_init)"
      ],
      "metadata": {
        "colab": {
          "base_uri": "https://localhost:8080/"
        },
        "id": "k1i_ukVzDL0p",
        "outputId": "0aa6be36-e00b-4636-d976-ea5f6ba2441b",
        "execution": {
          "iopub.status.busy": "2022-10-20T12:09:10.176268Z",
          "iopub.execute_input": "2022-10-20T12:09:10.176629Z",
          "iopub.status.idle": "2022-10-20T12:09:10.399144Z",
          "shell.execute_reply.started": "2022-10-20T12:09:10.176600Z",
          "shell.execute_reply": "2022-10-20T12:09:10.398139Z"
        },
        "trusted": true
      },
      "execution_count": null,
      "outputs": [
        {
          "execution_count": 49,
          "output_type": "execute_result",
          "data": {
            "text/plain": "G_net(\n  (fc1): Sequential(\n    (0): Linear(in_features=120, out_features=512, bias=True)\n    (1): ReLU()\n    (2): Linear(in_features=512, out_features=16384, bias=True)\n    (3): ReLU()\n    (4): BatchNorm1d(16384, eps=1e-05, momentum=0.1, affine=True, track_running_stats=True)\n  )\n  (ct1): Sequential(\n    (0): ConvTranspose2d(256, 128, kernel_size=(5, 5), stride=(2, 2), padding=(2, 2), output_padding=(1, 1))\n    (1): BatchNorm2d(128, eps=1e-05, momentum=0.1, affine=True, track_running_stats=True)\n    (2): ReLU()\n  )\n  (ct2): Sequential(\n    (0): ConvTranspose2d(128, 64, kernel_size=(5, 5), stride=(2, 2), padding=(2, 2), output_padding=(1, 1))\n    (1): BatchNorm2d(64, eps=1e-05, momentum=0.1, affine=True, track_running_stats=True)\n    (2): ReLU()\n  )\n  (ct3): Sequential(\n    (0): ConvTranspose2d(64, 32, kernel_size=(5, 5), stride=(2, 2), padding=(2, 2), output_padding=(1, 1))\n    (1): BatchNorm2d(32, eps=1e-05, momentum=0.1, affine=True, track_running_stats=True)\n    (2): ReLU()\n  )\n  (ct4): Sequential(\n    (0): ConvTranspose2d(32, 3, kernel_size=(5, 5), stride=(2, 2), padding=(2, 2), output_padding=(1, 1))\n    (1): Tanh()\n  )\n)"
          },
          "metadata": {}
        }
      ]
    },
    {
      "cell_type": "code",
      "source": [
        "#EMA WEIGHTS GENERATOR\n",
        "###################################\n",
        "eG = G_net(config.latent_dim)\n",
        "eG.apply(weights_init)\n",
        "#################################"
      ],
      "metadata": {
        "colab": {
          "base_uri": "https://localhost:8080/"
        },
        "id": "Fu7bAGONEfl3",
        "outputId": "8336ed73-5790-4120-96d4-3f942a8c55e6",
        "execution": {
          "iopub.status.busy": "2022-10-20T12:01:03.478931Z",
          "iopub.execute_input": "2022-10-20T12:01:03.479359Z",
          "iopub.status.idle": "2022-10-20T12:01:03.586530Z",
          "shell.execute_reply.started": "2022-10-20T12:01:03.479323Z",
          "shell.execute_reply": "2022-10-20T12:01:03.585620Z"
        },
        "trusted": true
      },
      "execution_count": null,
      "outputs": [
        {
          "execution_count": 19,
          "output_type": "execute_result",
          "data": {
            "text/plain": "G_net(\n  (fc1): Sequential(\n    (0): Linear(in_features=120, out_features=512, bias=True)\n    (1): ReLU()\n    (2): Linear(in_features=512, out_features=16384, bias=True)\n    (3): ReLU()\n    (4): BatchNorm1d(16384, eps=1e-05, momentum=0.1, affine=True, track_running_stats=True)\n  )\n  (ct1): Sequential(\n    (0): ConvTranspose2d(256, 128, kernel_size=(5, 5), stride=(2, 2), padding=(2, 2), output_padding=(1, 1))\n    (1): BatchNorm2d(128, eps=1e-05, momentum=0.1, affine=True, track_running_stats=True)\n    (2): ReLU()\n  )\n  (ct2): Sequential(\n    (0): ConvTranspose2d(128, 64, kernel_size=(5, 5), stride=(2, 2), padding=(2, 2), output_padding=(1, 1))\n    (1): BatchNorm2d(64, eps=1e-05, momentum=0.1, affine=True, track_running_stats=True)\n    (2): ReLU()\n  )\n  (ct3): Sequential(\n    (0): ConvTranspose2d(64, 32, kernel_size=(5, 5), stride=(2, 2), padding=(2, 2), output_padding=(1, 1))\n    (1): BatchNorm2d(32, eps=1e-05, momentum=0.1, affine=True, track_running_stats=True)\n    (2): ReLU()\n  )\n  (ct4): Sequential(\n    (0): ConvTranspose2d(32, 3, kernel_size=(5, 5), stride=(2, 2), padding=(2, 2), output_padding=(1, 1))\n    (1): Tanh()\n  )\n)"
          },
          "metadata": {}
        }
      ]
    },
    {
      "cell_type": "code",
      "source": [
        "from torchvision.transforms import ToPILImage"
      ],
      "metadata": {
        "id": "VkHYmDwYHauc",
        "execution": {
          "iopub.status.busy": "2022-10-20T12:10:24.112360Z",
          "iopub.execute_input": "2022-10-20T12:10:24.112993Z",
          "iopub.status.idle": "2022-10-20T12:10:24.117893Z",
          "shell.execute_reply.started": "2022-10-20T12:10:24.112956Z",
          "shell.execute_reply": "2022-10-20T12:10:24.116819Z"
        },
        "trusted": true
      },
      "execution_count": null,
      "outputs": []
    },
    {
      "cell_type": "code",
      "source": [
        "def get_noise(batch_size=config.batch_size):\n",
        "    return Variable(torch.rand(batch_size,config.latent_dim))"
      ],
      "metadata": {
        "id": "ub-eiEtYHmy_",
        "execution": {
          "iopub.status.busy": "2022-10-20T12:01:06.307859Z",
          "iopub.execute_input": "2022-10-20T12:01:06.308545Z",
          "iopub.status.idle": "2022-10-20T12:01:06.315281Z",
          "shell.execute_reply.started": "2022-10-20T12:01:06.308491Z",
          "shell.execute_reply": "2022-10-20T12:01:06.314072Z"
        },
        "trusted": true
      },
      "execution_count": null,
      "outputs": []
    },
    {
      "cell_type": "code",
      "source": [
        "LAMBDA = 10\n",
        "def loss_with_penalty(D,rdata,fdata):\n",
        "    alpha = torch.rand(rdata.size())\n",
        "    alpha = alpha.cuda(device) if use_GPU else alpha\n",
        "\n",
        "    interpolates = alpha * rdata + ((1 - alpha) * fdata)\n",
        "\n",
        "    interpolates = Variable(interpolates, requires_grad=True)\n",
        "    if use_GPU:\n",
        "        interpolates = interpolates.cuda(device)\n",
        "\n",
        "    disc_interpolates = D(interpolates)\n",
        "    gradients = grad(outputs=disc_interpolates, inputs=interpolates,\n",
        "                              grad_outputs=torch.ones(disc_interpolates.size()).cuda(device) if use_GPU else torch.ones(disc_interpolates.size()),\n",
        "                              create_graph=True, retain_graph=True, only_inputs=True)[0]\n",
        "    gradients = gradients.view(gradients.size(0), -1)\n",
        "\n",
        "    gradient_penalty = ((gradients.norm(2, dim=1) - 1) ** 2).mean() * LAMBDA\n",
        "    return gradient_penalty\n"
      ],
      "metadata": {
        "id": "U15-dJxWIp9B",
        "execution": {
          "iopub.status.busy": "2022-10-20T12:01:08.498106Z",
          "iopub.execute_input": "2022-10-20T12:01:08.498870Z",
          "iopub.status.idle": "2022-10-20T12:01:08.506889Z",
          "shell.execute_reply.started": "2022-10-20T12:01:08.498830Z",
          "shell.execute_reply": "2022-10-20T12:01:08.505668Z"
        },
        "trusted": true
      },
      "execution_count": null,
      "outputs": []
    },
    {
      "cell_type": "code",
      "source": [
        "from tqdm import tqdm\n",
        "\n",
        "d_iter = 1\n",
        "g_iter = 1\n",
        "epoch = 3000\n",
        "use_GPU = torch.cuda.is_available()\n",
        "if use_GPU:\n",
        "    device = torch.device('cuda')\n",
        "from torch.autograd import Variable,grad\n",
        "d_optimizer = Adam(d_model.parameters(),lr=1e-4,betas=[0.01,.9])\n",
        "g_optimizer = Adam(g_model.parameters(),lr=1e-4,betas=[0.01,.9])\n",
        "for e in range(epoch):\n",
        "    with tqdm(train_loader, desc = 'Train', miniters=10) as progress:\n",
        "        for data in progress:\n",
        "            for i in range(d_iter):\n",
        "                for p in d_model.parameters():\n",
        "                    p.requires_grad = True\n",
        "                d_model.zero_grad()\n",
        "                true_data = Variable(data)\n",
        "\n",
        "                if use_GPU:\n",
        "                    true_data=true_data.cuda(device)\n",
        "                d_true_score = d_model(true_data)\n",
        "                true_loss = -d_true_score.mean()\n",
        "                #fake data\n",
        "                noise = get_noise(true_data.size()[0])\n",
        "                if use_GPU:\n",
        "                    noise = noise.cuda(device)\n",
        "                fake_data = g_model(noise)\n",
        "                d_fake_score = d_model(fake_data)\n",
        "                fake_loss = d_fake_score.mean()\n",
        "                w_loss = loss_with_penalty(d_model,true_data.data,fake_data.data)\n",
        "                loss =true_loss+fake_loss+w_loss\n",
        "                loss.backward()\n",
        "                d_optimizer.step()\n",
        "            for i in range(g_iter):\n",
        "                g_model.zero_grad()\n",
        "                for p in d_model.parameters():\n",
        "                    p.requires_grad = False\n",
        "                noise = get_noise()\n",
        "                if use_GPU:\n",
        "                    noise = noise.cuda(device)\n",
        "                fake_data = g_model(noise)\n",
        "                g_score = d_model(fake_data)\n",
        "                g_loss = -g_score.mean()\n",
        "                g_loss.backward()\n",
        "                g_optimizer.step()\n",
        "            progress.set_description(f'G loss: {g_loss.item() :.02f}, D_loss : {loss.item() :.02f}')\n",
        "    if e%10==0:\n",
        "        fake_imgs=fake_data.cpu()\n",
        "        img = ToPILImage()(fake_imgs[3])\n",
        "        img.save(f'./result/{e}.png')\n",
        "        torch.save(d_model.state_dict(),'./result/d_model.pth')\n",
        "        torch.save(g_model.state_dict(),'./result/generator.pth')\n"
      ],
      "metadata": {
        "colab": {
          "base_uri": "https://localhost:8080/",
          "height": 401
        },
        "id": "mNcUVLT2HOit",
        "outputId": "bfb4b55d-408e-4a2d-fc83-96170f669e7f",
        "execution": {
          "iopub.status.busy": "2022-10-20T12:12:36.556151Z",
          "iopub.execute_input": "2022-10-20T12:12:36.556545Z",
          "iopub.status.idle": "2022-10-20T14:39:05.651091Z",
          "shell.execute_reply.started": "2022-10-20T12:12:36.556513Z",
          "shell.execute_reply": "2022-10-20T14:39:05.649625Z"
        },
        "trusted": true
      },
      "execution_count": null,
      "outputs": [
        {
          "name": "stderr",
          "text": "G loss: 31.36, D_loss : -142.66: 100%|██████████| 40/40 [00:20<00:00,  2.00it/s]\nG loss: 69.15, D_loss : -281.51: 100%|██████████| 40/40 [00:19<00:00,  2.07it/s] \nG loss: 179.60, D_loss : -612.47: 100%|██████████| 40/40 [00:20<00:00,  1.97it/s]\nG loss: 257.32, D_loss : -532.49: 100%|██████████| 40/40 [00:19<00:00,  2.05it/s] \nG loss: 329.84, D_loss : -675.36: 100%|██████████| 40/40 [00:19<00:00,  2.02it/s] \nG loss: 388.69, D_loss : -821.68: 100%|██████████| 40/40 [00:19<00:00,  2.03it/s] \nG loss: 483.15, D_loss : -713.32: 100%|██████████| 40/40 [00:19<00:00,  2.01it/s]  \nG loss: 435.98, D_loss : -358.90: 100%|██████████| 40/40 [00:19<00:00,  2.02it/s]  \nG loss: 627.29, D_loss : -1137.89: 100%|██████████| 40/40 [00:19<00:00,  2.03it/s] \nG loss: 628.49, D_loss : -1104.06: 100%|██████████| 40/40 [00:19<00:00,  2.03it/s] \nG loss: 717.96, D_loss : -1077.53: 100%|██████████| 40/40 [00:20<00:00,  1.96it/s] \nG loss: 790.81, D_loss : -952.84: 100%|██████████| 40/40 [00:19<00:00,  2.03it/s]  \nG loss: 723.56, D_loss : -978.73: 100%|██████████| 40/40 [00:19<00:00,  2.02it/s]  \nG loss: 932.87, D_loss : -1859.97: 100%|██████████| 40/40 [00:20<00:00,  1.96it/s]  \nG loss: 1028.08, D_loss : -2818.05: 100%|██████████| 40/40 [00:19<00:00,  2.05it/s] \nG loss: 1084.52, D_loss : -2628.96: 100%|██████████| 40/40 [00:19<00:00,  2.02it/s] \nG loss: 789.83, D_loss : -192.08: 100%|██████████| 40/40 [00:19<00:00,  2.02it/s]   \nG loss: 1203.66, D_loss : -4685.46: 100%|██████████| 40/40 [00:19<00:00,  2.04it/s] \nG loss: 1195.91, D_loss : -2337.10: 100%|██████████| 40/40 [00:19<00:00,  2.04it/s] \nG loss: 880.99, D_loss : 8477.36: 100%|██████████| 40/40 [00:19<00:00,  2.05it/s]   \nG loss: 1025.50, D_loss : 1028.70: 100%|██████████| 40/40 [00:19<00:00,  2.03it/s]  \nG loss: 1298.36, D_loss : -4165.33: 100%|██████████| 40/40 [00:19<00:00,  2.00it/s] \nG loss: 1332.59, D_loss : -8270.96: 100%|██████████| 40/40 [00:19<00:00,  2.05it/s] \nG loss: -3916.10, D_loss : -8025.26: 100%|██████████| 40/40 [00:19<00:00,  2.04it/s]\nG loss: -3565.97, D_loss : -5948.71: 100%|██████████| 40/40 [00:19<00:00,  2.04it/s]\nG loss: 871.98, D_loss : -4262.10: 100%|██████████| 40/40 [00:19<00:00,  2.02it/s]  \nG loss: -2732.48, D_loss : -8427.90: 100%|██████████| 40/40 [00:19<00:00,  2.06it/s]\nG loss: -1194.55, D_loss : 1899.12: 100%|██████████| 40/40 [00:19<00:00,  2.09it/s] \nG loss: 1430.71, D_loss : -6577.39: 100%|██████████| 40/40 [00:19<00:00,  2.06it/s] \nG loss: 1048.67, D_loss : 1420.26: 100%|██████████| 40/40 [00:19<00:00,  2.01it/s]  \nG loss: 1853.78, D_loss : -2139.00: 100%|██████████| 40/40 [00:19<00:00,  2.08it/s] \nG loss: 342.03, D_loss : -1909.05: 100%|██████████| 40/40 [00:19<00:00,  2.04it/s]  \nG loss: 1567.65, D_loss : 896.76: 100%|██████████| 40/40 [00:19<00:00,  2.05it/s]   \nG loss: 2034.40, D_loss : -3964.95: 100%|██████████| 40/40 [00:19<00:00,  2.03it/s] \nG loss: 504.47, D_loss : 1108.16: 100%|██████████| 40/40 [00:19<00:00,  2.05it/s]   \nG loss: -733.97, D_loss : -6556.47: 100%|██████████| 40/40 [00:19<00:00,  2.09it/s] \nG loss: -10183.10, D_loss : -6879.01: 100%|██████████| 40/40 [00:19<00:00,  2.02it/s]\nG loss: 1754.88, D_loss : -7087.30: 100%|██████████| 40/40 [00:21<00:00,  1.85it/s] \nG loss: 983.96, D_loss : -4762.83: 100%|██████████| 40/40 [00:19<00:00,  2.02it/s]  \nG loss: 1746.24, D_loss : -4855.87: 100%|██████████| 40/40 [00:20<00:00,  1.97it/s] \nG loss: -2788.57, D_loss : -4742.51: 100%|██████████| 40/40 [00:21<00:00,  1.89it/s] \nG loss: 2853.19, D_loss : -7574.91: 100%|██████████| 40/40 [00:20<00:00,  1.98it/s]  \nG loss: -30.30, D_loss : -1600.71: 100%|██████████| 40/40 [00:19<00:00,  2.03it/s]  \nG loss: -2483.15, D_loss : -7193.82: 100%|██████████| 40/40 [00:19<00:00,  2.01it/s] \nG loss: -10220.99, D_loss : -7699.32: 100%|██████████| 40/40 [00:19<00:00,  2.08it/s]\nG loss: -1069.02, D_loss : -8137.98: 100%|██████████| 40/40 [00:19<00:00,  2.03it/s]\nG loss: -8561.92, D_loss : -9597.37: 100%|██████████| 40/40 [00:19<00:00,  2.09it/s] \nG loss: 3176.51, D_loss : -5138.59: 100%|██████████| 40/40 [00:19<00:00,  2.01it/s] \nG loss: 1499.13, D_loss : -7840.10: 100%|██████████| 40/40 [00:19<00:00,  2.04it/s]  \nG loss: 3709.16, D_loss : -6841.60: 100%|██████████| 40/40 [00:19<00:00,  2.07it/s]  \nG loss: 3443.96, D_loss : -5388.92: 100%|██████████| 40/40 [00:19<00:00,  2.02it/s]  \nG loss: -6126.92, D_loss : -11795.10: 100%|██████████| 40/40 [00:19<00:00,  2.01it/s]\nG loss: -3270.28, D_loss : -10069.02: 100%|██████████| 40/40 [00:19<00:00,  2.03it/s]\nG loss: 4029.14, D_loss : -9392.22: 100%|██████████| 40/40 [00:19<00:00,  2.02it/s]  \nG loss: -4992.65, D_loss : -9623.32: 100%|██████████| 40/40 [00:19<00:00,  2.05it/s] \nG loss: 4342.68, D_loss : -11194.90: 100%|██████████| 40/40 [00:20<00:00,  2.00it/s] \nG loss: -7334.51, D_loss : -9613.47: 100%|██████████| 40/40 [00:19<00:00,  2.05it/s] \nG loss: 4677.13, D_loss : -7692.57: 100%|██████████| 40/40 [00:19<00:00,  2.07it/s]  \nG loss: 5247.37, D_loss : -9484.27: 100%|██████████| 40/40 [00:19<00:00,  2.03it/s]  \nG loss: 2349.88, D_loss : -5788.10: 100%|██████████| 40/40 [00:19<00:00,  2.04it/s]  \nG loss: 5145.68, D_loss : -10746.48: 100%|██████████| 40/40 [00:19<00:00,  2.06it/s] \nG loss: 4243.84, D_loss : -12827.73: 100%|██████████| 40/40 [00:19<00:00,  2.02it/s] \nG loss: 5316.07, D_loss : -6368.34: 100%|██████████| 40/40 [00:19<00:00,  2.07it/s]  \nG loss: 5835.70, D_loss : -11225.86: 100%|██████████| 40/40 [00:20<00:00,  1.99it/s] \nG loss: -678.82, D_loss : -12078.96: 100%|██████████| 40/40 [00:19<00:00,  2.03it/s] \nG loss: -14787.68, D_loss : -14897.36: 100%|██████████| 40/40 [00:19<00:00,  2.07it/s]\nG loss: 6393.35, D_loss : -8792.47: 100%|██████████| 40/40 [00:19<00:00,  2.05it/s]  \nG loss: 5127.07, D_loss : -8655.75: 100%|██████████| 40/40 [00:19<00:00,  2.04it/s]  \nG loss: -14949.61, D_loss : -16132.75: 100%|██████████| 40/40 [00:19<00:00,  2.04it/s]\nG loss: -12205.76, D_loss : -15744.03: 100%|██████████| 40/40 [00:19<00:00,  2.02it/s]\nG loss: -8798.07, D_loss : -17888.91: 100%|██████████| 40/40 [00:19<00:00,  2.08it/s] \nG loss: -14237.95, D_loss : -14615.34: 100%|██████████| 40/40 [00:19<00:00,  2.02it/s]\nG loss: 7826.15, D_loss : -15167.87: 100%|██████████| 40/40 [00:19<00:00,  2.05it/s]  \nG loss: -13710.52, D_loss : -13658.29: 100%|██████████| 40/40 [00:19<00:00,  2.08it/s]\nG loss: -11837.89, D_loss : -14815.81: 100%|██████████| 40/40 [00:19<00:00,  2.06it/s]\nG loss: -22797.90, D_loss : -15900.51: 100%|██████████| 40/40 [00:19<00:00,  2.04it/s]\nG loss: -25686.87, D_loss : -16052.99: 100%|██████████| 40/40 [00:19<00:00,  2.04it/s]\nG loss: 8013.52, D_loss : -13600.49: 100%|██████████| 40/40 [00:19<00:00,  2.04it/s] \nG loss: 8589.94, D_loss : -13406.26: 100%|██████████| 40/40 [00:19<00:00,  2.07it/s]  \nG loss: 8236.52, D_loss : -15724.82: 100%|██████████| 40/40 [00:19<00:00,  2.03it/s]  \nG loss: 8027.10, D_loss : -11718.70: 100%|██████████| 40/40 [00:19<00:00,  2.05it/s]  \nG loss: -17151.88, D_loss : -16236.16: 100%|██████████| 40/40 [00:19<00:00,  2.07it/s]\nG loss: 9296.52, D_loss : -16667.68: 100%|██████████| 40/40 [00:19<00:00,  2.05it/s]  \nG loss: 7252.63, D_loss : -12952.36: 100%|██████████| 40/40 [00:19<00:00,  2.07it/s]  \nG loss: -3455.19, D_loss : -25400.05: 100%|██████████| 40/40 [00:19<00:00,  2.05it/s] \nG loss: 9953.07, D_loss : -15965.03: 100%|██████████| 40/40 [00:19<00:00,  2.04it/s]  \nG loss: 10353.44, D_loss : -17945.83: 100%|██████████| 40/40 [00:19<00:00,  2.08it/s] \nG loss: -279.50, D_loss : -8409.93: 100%|██████████| 40/40 [00:19<00:00,  2.02it/s]   \nG loss: -1537.38, D_loss : -5970.93: 100%|██████████| 40/40 [00:18<00:00,  2.11it/s]  \nG loss: -23961.53, D_loss : -15339.40: 100%|██████████| 40/40 [00:19<00:00,  2.05it/s]\nG loss: -19347.43, D_loss : -22413.52: 100%|██████████| 40/40 [00:19<00:00,  2.04it/s]\nG loss: 9386.10, D_loss : -19994.28: 100%|██████████| 40/40 [00:19<00:00,  2.04it/s]  \nG loss: -22109.90, D_loss : -414.77: 100%|██████████| 40/40 [00:19<00:00,  2.07it/s]  \nG loss: 2643.02, D_loss : -21441.61: 100%|██████████| 40/40 [00:19<00:00,  2.05it/s]  \nG loss: 10140.32, D_loss : -22482.50: 100%|██████████| 40/40 [00:19<00:00,  2.08it/s] \nG loss: -26688.27, D_loss : -26906.77: 100%|██████████| 40/40 [00:19<00:00,  2.03it/s]\nG loss: -10017.32, D_loss : -6395.03: 100%|██████████| 40/40 [00:19<00:00,  2.10it/s] \nG loss: -11627.68, D_loss : -28825.18: 100%|██████████| 40/40 [00:19<00:00,  2.05it/s]\nG loss: 5296.05, D_loss : -11681.87: 100%|██████████| 40/40 [00:19<00:00,  2.06it/s]  \nG loss: -6156.91, D_loss : -8872.64: 100%|██████████| 40/40 [00:19<00:00,  2.04it/s]  \nG loss: -21850.70, D_loss : -26817.86: 100%|██████████| 40/40 [00:19<00:00,  2.05it/s]\nG loss: 2927.19, D_loss : -28382.60: 100%|██████████| 40/40 [00:19<00:00,  2.09it/s]  \nG loss: 13801.42, D_loss : -32068.82: 100%|██████████| 40/40 [00:19<00:00,  2.03it/s] \nG loss: 14612.79, D_loss : -15699.07: 100%|██████████| 40/40 [00:19<00:00,  2.02it/s] \nG loss: 12154.68, D_loss : -24507.88: 100%|██████████| 40/40 [00:19<00:00,  2.08it/s] \nG loss: -10962.79, D_loss : -11981.80: 100%|██████████| 40/40 [00:19<00:00,  2.08it/s]\nG loss: -47727.44, D_loss : -25019.55: 100%|██████████| 40/40 [00:19<00:00,  2.05it/s]\nG loss: -35483.57, D_loss : -26185.98: 100%|██████████| 40/40 [00:19<00:00,  2.04it/s]\nG loss: -20905.15, D_loss : -33400.01: 100%|██████████| 40/40 [00:19<00:00,  2.02it/s]\nG loss: -12340.01, D_loss : -36345.31: 100%|██████████| 40/40 [00:19<00:00,  2.08it/s]\nG loss: -34597.23, D_loss : -39237.08: 100%|██████████| 40/40 [00:19<00:00,  2.05it/s]\nG loss: -10821.07, D_loss : -33697.90: 100%|██████████| 40/40 [00:19<00:00,  2.02it/s]\nG loss: 15317.87, D_loss : -35574.15: 100%|██████████| 40/40 [00:19<00:00,  2.08it/s] \nG loss: 13837.79, D_loss : -18063.52: 100%|██████████| 40/40 [00:19<00:00,  2.02it/s] \nG loss: 4926.89, D_loss : -37873.93: 100%|██████████| 40/40 [00:19<00:00,  2.07it/s]  \nG loss: -53938.09, D_loss : -40585.75: 100%|██████████| 40/40 [00:19<00:00,  2.03it/s]\nG loss: 18674.91, D_loss : -36637.74: 100%|██████████| 40/40 [00:19<00:00,  2.04it/s] \nG loss: 10437.43, D_loss : -19737.02: 100%|██████████| 40/40 [00:19<00:00,  2.05it/s] \nG loss: 10316.21, D_loss : -30194.92: 100%|██████████| 40/40 [00:19<00:00,  2.05it/s] \nG loss: -53895.50, D_loss : -46611.39: 100%|██████████| 40/40 [00:19<00:00,  2.02it/s]\nG loss: -24019.00, D_loss : -38370.96: 100%|██████████| 40/40 [00:19<00:00,  2.08it/s]\nG loss: -54586.45, D_loss : -40613.43: 100%|██████████| 40/40 [00:19<00:00,  2.04it/s]\nG loss: -29191.64, D_loss : -55787.38: 100%|██████████| 40/40 [00:19<00:00,  2.08it/s]\nG loss: 7978.97, D_loss : -43570.05: 100%|██████████| 40/40 [00:19<00:00,  2.02it/s]  \nG loss: -43374.25, D_loss : -35084.02: 100%|██████████| 40/40 [00:19<00:00,  2.04it/s]\nG loss: 18779.33, D_loss : -44262.77: 100%|██████████| 40/40 [00:19<00:00,  2.08it/s] \nG loss: -63303.18, D_loss : -48151.81: 100%|██████████| 40/40 [00:19<00:00,  2.04it/s]\nG loss: -60418.55, D_loss : -46095.48: 100%|██████████| 40/40 [00:20<00:00,  1.99it/s]\nG loss: -65173.30, D_loss : -28104.50: 100%|██████████| 40/40 [00:19<00:00,  2.09it/s]\nG loss: -53110.05, D_loss : -46546.71: 100%|██████████| 40/40 [00:19<00:00,  2.06it/s]\nG loss: -50072.21, D_loss : -40995.61: 100%|██████████| 40/40 [00:19<00:00,  2.09it/s]\nG loss: 18685.04, D_loss : -41363.37: 100%|██████████| 40/40 [00:19<00:00,  2.03it/s] \nG loss: 24321.08, D_loss : -42128.93: 100%|██████████| 40/40 [00:19<00:00,  2.07it/s] \nG loss: -72378.28, D_loss : -38942.45: 100%|██████████| 40/40 [00:19<00:00,  2.08it/s]\nG loss: 16516.59, D_loss : -52023.20: 100%|██████████| 40/40 [00:19<00:00,  2.04it/s] \nG loss: 20626.55, D_loss : -24607.86: 100%|██████████| 40/40 [00:19<00:00,  2.01it/s] \nG loss: 25629.13, D_loss : -35417.33: 100%|██████████| 40/40 [00:19<00:00,  2.10it/s] \nG loss: 24406.98, D_loss : -57701.87: 100%|██████████| 40/40 [00:19<00:00,  2.04it/s] \nG loss: 24681.31, D_loss : -39283.53: 100%|██████████| 40/40 [00:19<00:00,  2.08it/s] \nG loss: -63694.11, D_loss : -62197.37: 100%|██████████| 40/40 [00:19<00:00,  2.02it/s]\nG loss: -2903.84, D_loss : -55539.86: 100%|██████████| 40/40 [00:19<00:00,  2.05it/s] \nG loss: 8032.12, D_loss : -57100.57: 100%|██████████| 40/40 [00:19<00:00,  2.07it/s]  \nG loss: 26522.27, D_loss : -78596.49: 100%|██████████| 40/40 [00:19<00:00,  2.05it/s] \nG loss: 26696.54, D_loss : -52056.06: 100%|██████████| 40/40 [00:19<00:00,  2.04it/s] \nG loss: -52384.96, D_loss : -56903.61: 100%|██████████| 40/40 [00:19<00:00,  2.05it/s]\nG loss: -84951.76, D_loss : -51127.04: 100%|██████████| 40/40 [00:19<00:00,  2.06it/s]\nG loss: -3408.99, D_loss : -35944.28: 100%|██████████| 40/40 [00:19<00:00,  2.07it/s] \nG loss: -87374.72, D_loss : -55385.55: 100%|██████████| 40/40 [00:19<00:00,  2.01it/s]\nG loss: 9270.85, D_loss : 4207.43: 100%|██████████| 40/40 [00:19<00:00,  2.05it/s]    \nG loss: 9737.24, D_loss : 2676.81: 100%|██████████| 40/40 [00:19<00:00,  2.07it/s]\nG loss: 9509.85, D_loss : 4191.17: 100%|██████████| 40/40 [00:19<00:00,  2.04it/s]\nG loss: 9796.64, D_loss : 1727.34: 100%|██████████| 40/40 [00:19<00:00,  2.05it/s]\nG loss: 9895.80, D_loss : 1117.02: 100%|██████████| 40/40 [00:19<00:00,  2.05it/s] \nG loss: 9833.78, D_loss : 686.61: 100%|██████████| 40/40 [00:19<00:00,  2.01it/s]  \nG loss: 9951.72, D_loss : 381.91: 100%|██████████| 40/40 [00:19<00:00,  2.07it/s] \nG loss: 9881.87, D_loss : 574.85: 100%|██████████| 40/40 [00:20<00:00,  1.98it/s] \nG loss: 10148.27, D_loss : 331.45: 100%|██████████| 40/40 [00:19<00:00,  2.02it/s]\nG loss: 10259.25, D_loss : 222.39: 100%|██████████| 40/40 [00:19<00:00,  2.06it/s] \nG loss: 9871.72, D_loss : 667.14: 100%|██████████| 40/40 [00:20<00:00,  1.98it/s]  \nG loss: 9899.14, D_loss : 8.73: 100%|██████████| 40/40 [00:20<00:00,  1.96it/s]    \nG loss: 10200.80, D_loss : -254.67: 100%|██████████| 40/40 [00:19<00:00,  2.01it/s]\nG loss: 9745.94, D_loss : -496.30: 100%|██████████| 40/40 [00:20<00:00,  1.99it/s] \nG loss: 10135.73, D_loss : -150.69: 100%|██████████| 40/40 [00:20<00:00,  1.96it/s]\nG loss: 10130.26, D_loss : 382.50: 100%|██████████| 40/40 [00:20<00:00,  1.96it/s] \nG loss: 9995.84, D_loss : 159.87: 100%|██████████| 40/40 [00:20<00:00,  1.98it/s]  \nG loss: 9597.38, D_loss : 389.30: 100%|██████████| 40/40 [00:21<00:00,  1.86it/s] \nG loss: 9389.91, D_loss : 249.42: 100%|██████████| 40/40 [00:20<00:00,  2.00it/s] \nG loss: 9442.42, D_loss : -38.00: 100%|██████████| 40/40 [00:19<00:00,  2.00it/s] \nG loss: 9930.35, D_loss : -353.53: 100%|██████████| 40/40 [00:20<00:00,  1.95it/s]\nG loss: 10011.83, D_loss : -107.83: 100%|██████████| 40/40 [00:20<00:00,  1.98it/s]\nG loss: 9590.30, D_loss : -250.39: 100%|██████████| 40/40 [00:19<00:00,  2.06it/s]\nG loss: 9349.45, D_loss : 381.83: 100%|██████████| 40/40 [00:19<00:00,  2.02it/s] \nG loss: 9648.04, D_loss : 208.30: 100%|██████████| 40/40 [00:19<00:00,  2.04it/s] \nG loss: 9015.30, D_loss : 0.79: 100%|██████████| 40/40 [00:19<00:00,  2.07it/s]   \nG loss: 9302.63, D_loss : -207.71: 100%|██████████| 40/40 [00:19<00:00,  2.04it/s]\nG loss: 9052.26, D_loss : -93.78: 100%|██████████| 40/40 [00:19<00:00,  2.00it/s] \nG loss: 9358.95, D_loss : -515.88: 100%|██████████| 40/40 [00:19<00:00,  2.04it/s]\nG loss: 8822.70, D_loss : 253.55: 100%|██████████| 40/40 [00:19<00:00,  2.03it/s] \nG loss: 7868.29, D_loss : 162.56: 100%|██████████| 40/40 [00:19<00:00,  2.07it/s] \nG loss: 7806.33, D_loss : -160.56: 100%|██████████| 40/40 [00:19<00:00,  2.01it/s]\nG loss: 7634.46, D_loss : 390.60: 100%|██████████| 40/40 [00:19<00:00,  2.02it/s] \nG loss: 6511.06, D_loss : -31.76: 100%|██████████| 40/40 [00:19<00:00,  2.05it/s] \nG loss: 7148.49, D_loss : -84.04: 100%|██████████| 40/40 [00:19<00:00,  2.04it/s] \nG loss: 6537.09, D_loss : -350.34: 100%|██████████| 40/40 [00:19<00:00,  2.02it/s]\nG loss: 7172.50, D_loss : -81.06: 100%|██████████| 40/40 [00:19<00:00,  2.08it/s] \nG loss: 6334.26, D_loss : -475.23: 100%|██████████| 40/40 [00:19<00:00,  2.06it/s]\nG loss: 5181.62, D_loss : -795.31: 100%|██████████| 40/40 [00:19<00:00,  2.10it/s]\nG loss: 6814.39, D_loss : -317.57: 100%|██████████| 40/40 [00:19<00:00,  2.00it/s]\nG loss: 5551.18, D_loss : -404.23: 100%|██████████| 40/40 [00:19<00:00,  2.02it/s]\nG loss: 4661.28, D_loss : -296.52: 100%|██████████| 40/40 [00:19<00:00,  2.07it/s]\nG loss: 5343.80, D_loss : 137.58: 100%|██████████| 40/40 [00:19<00:00,  2.02it/s] \nG loss: 6188.98, D_loss : -494.45: 100%|██████████| 40/40 [00:19<00:00,  2.02it/s]\nG loss: 5619.73, D_loss : 225.30: 100%|██████████| 40/40 [00:19<00:00,  2.04it/s] \nG loss: 5799.41, D_loss : 252.30: 100%|██████████| 40/40 [00:19<00:00,  2.06it/s] \nG loss: 4415.93, D_loss : 761.81: 100%|██████████| 40/40 [00:19<00:00,  2.07it/s] \nG loss: 5061.97, D_loss : -504.29: 100%|██████████| 40/40 [00:19<00:00,  2.00it/s]\nG loss: 5727.75, D_loss : 486.58: 100%|██████████| 40/40 [00:19<00:00,  2.01it/s] \nG loss: 6384.31, D_loss : -435.42: 100%|██████████| 40/40 [00:19<00:00,  2.05it/s]\nG loss: 6105.33, D_loss : -1.97: 100%|██████████| 40/40 [00:19<00:00,  2.04it/s]  \nG loss: 5061.12, D_loss : 392.98: 100%|██████████| 40/40 [00:20<00:00,  1.98it/s] \nG loss: 5388.21, D_loss : -192.01: 100%|██████████| 40/40 [00:19<00:00,  2.06it/s]\nG loss: 6455.17, D_loss : -430.04: 100%|██████████| 40/40 [00:19<00:00,  2.05it/s]\nG loss: 5975.54, D_loss : 659.78: 100%|██████████| 40/40 [00:19<00:00,  2.08it/s] \nG loss: 6708.61, D_loss : -659.00: 100%|██████████| 40/40 [00:19<00:00,  2.03it/s]\nG loss: 6153.22, D_loss : -54.64: 100%|██████████| 40/40 [00:19<00:00,  2.05it/s] \nG loss: 6697.50, D_loss : -1414.01: 100%|██████████| 40/40 [00:19<00:00,  2.10it/s]\nG loss: 6636.67, D_loss : 294.50: 100%|██████████| 40/40 [00:19<00:00,  2.01it/s] \nG loss: 7418.16, D_loss : -35.12: 100%|██████████| 40/40 [00:19<00:00,  2.06it/s] \nG loss: 7886.04, D_loss : -248.43: 100%|██████████| 40/40 [00:19<00:00,  2.03it/s]\nG loss: 7613.64, D_loss : -27.04: 100%|██████████| 40/40 [00:19<00:00,  2.04it/s] \nG loss: 7822.99, D_loss : -104.59: 100%|██████████| 40/40 [00:19<00:00,  2.07it/s]\nG loss: 8560.13, D_loss : 206.84: 100%|██████████| 40/40 [00:19<00:00,  2.03it/s] \nG loss: 7851.81, D_loss : -128.76: 100%|██████████| 40/40 [00:20<00:00,  1.98it/s]\nG loss: 7254.80, D_loss : 882.10: 100%|██████████| 40/40 [00:19<00:00,  2.05it/s] \nG loss: 7410.93, D_loss : -265.62: 100%|██████████| 40/40 [00:19<00:00,  2.07it/s]\nG loss: 6983.27, D_loss : -308.95: 100%|██████████| 40/40 [00:19<00:00,  2.06it/s]\nG loss: 6505.92, D_loss : -603.72: 100%|██████████| 40/40 [00:19<00:00,  2.05it/s]\nG loss: 6072.12, D_loss : -755.76: 100%|██████████| 40/40 [00:19<00:00,  2.02it/s]\nG loss: 6408.55, D_loss : 650.77: 100%|██████████| 40/40 [00:19<00:00,  2.07it/s] \nG loss: 6511.99, D_loss : 172.97: 100%|██████████| 40/40 [00:19<00:00,  2.01it/s] \nG loss: 6174.89, D_loss : -730.79: 100%|██████████| 40/40 [00:19<00:00,  2.02it/s]\nG loss: 6165.93, D_loss : -92.42: 100%|██████████| 40/40 [00:19<00:00,  2.07it/s] \nG loss: 6601.16, D_loss : 10.40: 100%|██████████| 40/40 [00:19<00:00,  2.03it/s]  \nG loss: 6132.67, D_loss : -304.86: 100%|██████████| 40/40 [00:19<00:00,  2.05it/s]\nG loss: 5620.68, D_loss : 996.80: 100%|██████████| 40/40 [00:19<00:00,  2.04it/s] \nG loss: 6372.91, D_loss : 79.40: 100%|██████████| 40/40 [00:19<00:00,  2.02it/s]  \nG loss: 5742.52, D_loss : 104.06: 100%|██████████| 40/40 [00:19<00:00,  2.07it/s] \nG loss: 5380.94, D_loss : 820.22: 100%|██████████| 40/40 [00:19<00:00,  2.02it/s] \nG loss: 6287.67, D_loss : 524.52: 100%|██████████| 40/40 [00:19<00:00,  2.01it/s] \nG loss: 7006.78, D_loss : -278.64: 100%|██████████| 40/40 [00:19<00:00,  2.03it/s]\nG loss: 7087.22, D_loss : -97.49: 100%|██████████| 40/40 [00:19<00:00,  2.02it/s] \nG loss: 7805.63, D_loss : 386.36: 100%|██████████| 40/40 [00:19<00:00,  2.03it/s] \nG loss: 6294.72, D_loss : -444.48: 100%|██████████| 40/40 [00:19<00:00,  2.02it/s]\nG loss: 6419.27, D_loss : -408.52: 100%|██████████| 40/40 [00:19<00:00,  2.05it/s]\nG loss: 5834.81, D_loss : 34.70: 100%|██████████| 40/40 [00:19<00:00,  2.04it/s]  \nG loss: 5240.73, D_loss : -165.30: 100%|██████████| 40/40 [00:19<00:00,  2.01it/s]\nG loss: 6108.68, D_loss : 289.54: 100%|██████████| 40/40 [00:19<00:00,  2.03it/s] \nG loss: 6565.62, D_loss : 707.02: 100%|██████████| 40/40 [00:19<00:00,  2.06it/s] \nG loss: 7299.93, D_loss : -791.81: 100%|██████████| 40/40 [00:20<00:00,  1.96it/s]\nG loss: 6797.80, D_loss : -141.70: 100%|██████████| 40/40 [00:19<00:00,  2.04it/s]\nG loss: 7236.38, D_loss : 346.05: 100%|██████████| 40/40 [00:19<00:00,  2.03it/s] \nG loss: 7637.90, D_loss : -100.25: 100%|██████████| 40/40 [00:19<00:00,  2.05it/s]\nG loss: 7966.15, D_loss : -158.11: 100%|██████████| 40/40 [00:19<00:00,  2.08it/s]\nG loss: 8215.32, D_loss : -310.72: 100%|██████████| 40/40 [00:19<00:00,  2.00it/s]\nG loss: 8627.22, D_loss : 164.34: 100%|██████████| 40/40 [00:19<00:00,  2.03it/s] \nG loss: 8964.65, D_loss : -464.45: 100%|██████████| 40/40 [00:19<00:00,  2.05it/s]\nG loss: 8638.39, D_loss : -34.99: 100%|██████████| 40/40 [00:19<00:00,  2.04it/s] \nG loss: 8899.44, D_loss : 365.52: 100%|██████████| 40/40 [00:19<00:00,  2.06it/s] \nG loss: 9341.31, D_loss : -400.73: 100%|██████████| 40/40 [00:19<00:00,  2.02it/s]\nG loss: 8852.58, D_loss : -296.64: 100%|██████████| 40/40 [00:19<00:00,  2.02it/s]\nG loss: 8761.92, D_loss : -62.02: 100%|██████████| 40/40 [00:19<00:00,  2.06it/s] \nG loss: 8483.88, D_loss : 299.16: 100%|██████████| 40/40 [00:19<00:00,  2.01it/s] \nG loss: 8448.31, D_loss : -541.40: 100%|██████████| 40/40 [00:19<00:00,  2.04it/s]\nG loss: 8566.28, D_loss : 509.08: 100%|██████████| 40/40 [00:19<00:00,  2.07it/s] \nG loss: 7930.56, D_loss : 761.58: 100%|██████████| 40/40 [00:19<00:00,  2.02it/s] \nG loss: 8508.33, D_loss : 27.65: 100%|██████████| 40/40 [00:19<00:00,  2.02it/s]  \nG loss: 6794.58, D_loss : 410.33: 100%|██████████| 40/40 [00:20<00:00,  2.00it/s] \nG loss: 7060.85, D_loss : 456.10: 100%|██████████| 40/40 [00:19<00:00,  2.05it/s] \nG loss: 6842.53, D_loss : 348.48: 100%|██████████| 40/40 [00:19<00:00,  2.04it/s] \nG loss: 7404.58, D_loss : 46.82: 100%|██████████| 40/40 [00:20<00:00,  2.00it/s]  \nG loss: 6719.03, D_loss : 888.59: 100%|██████████| 40/40 [00:19<00:00,  2.03it/s] \nG loss: 6776.22, D_loss : 168.35: 100%|██████████| 40/40 [00:19<00:00,  2.09it/s] \nG loss: 6605.33, D_loss : 55.66: 100%|██████████| 40/40 [00:19<00:00,  2.04it/s]  \nG loss: 5202.69, D_loss : 615.09: 100%|██████████| 40/40 [00:19<00:00,  2.05it/s] \nG loss: 6169.76, D_loss : -174.36: 100%|██████████| 40/40 [00:19<00:00,  2.03it/s]\nG loss: 6633.90, D_loss : 573.18: 100%|██████████| 40/40 [00:19<00:00,  2.05it/s] \nG loss: 6943.85, D_loss : 78.67: 100%|██████████| 40/40 [00:19<00:00,  2.09it/s]  \nG loss: 7305.25, D_loss : 61.86: 100%|██████████| 40/40 [00:19<00:00,  2.02it/s]  \nG loss: 6902.74, D_loss : 80.39: 100%|██████████| 40/40 [00:19<00:00,  2.06it/s]  \nG loss: 7343.58, D_loss : -131.63: 100%|██████████| 40/40 [00:19<00:00,  2.02it/s]\nG loss: 7143.52, D_loss : -223.59: 100%|██████████| 40/40 [00:20<00:00,  2.00it/s]\nG loss: 7423.60, D_loss : -403.29: 100%|██████████| 40/40 [00:19<00:00,  2.01it/s]\nG loss: 7399.74, D_loss : -465.82: 100%|██████████| 40/40 [00:20<00:00,  1.99it/s]\nG loss: 7535.88, D_loss : 254.43: 100%|██████████| 40/40 [00:20<00:00,  1.97it/s] \nG loss: 7606.44, D_loss : 635.00: 100%|██████████| 40/40 [00:20<00:00,  1.96it/s] \nG loss: 7542.08, D_loss : -214.15: 100%|██████████| 40/40 [00:20<00:00,  1.91it/s]\nG loss: 7625.13, D_loss : -256.04: 100%|██████████| 40/40 [00:20<00:00,  2.00it/s]\nG loss: 7561.58, D_loss : 504.44: 100%|██████████| 40/40 [00:19<00:00,  2.02it/s] \nG loss: 7086.17, D_loss : 668.02: 100%|██████████| 40/40 [00:20<00:00,  1.96it/s] \nG loss: 6481.48, D_loss : 298.57: 100%|██████████| 40/40 [00:20<00:00,  2.00it/s] \nG loss: 6404.06, D_loss : 649.35: 100%|██████████| 40/40 [00:20<00:00,  1.96it/s] \nG loss: 6745.07, D_loss : -834.83: 100%|██████████| 40/40 [00:20<00:00,  1.99it/s]\nG loss: 6575.38, D_loss : 356.02: 100%|██████████| 40/40 [00:19<00:00,  2.06it/s] \nG loss: 6943.49, D_loss : -1155.40: 100%|██████████| 40/40 [00:19<00:00,  2.02it/s]\nG loss: 5829.41, D_loss : -677.91: 100%|██████████| 40/40 [00:20<00:00,  1.97it/s]\nG loss: 6536.73, D_loss : -302.03: 100%|██████████| 40/40 [00:19<00:00,  2.00it/s]\nG loss: 5879.17, D_loss : -147.60: 100%|██████████| 40/40 [00:20<00:00,  1.97it/s]\nG loss: 5662.90, D_loss : -1162.07: 100%|██████████| 40/40 [00:20<00:00,  1.92it/s]\nG loss: 5473.08, D_loss : 815.23: 100%|██████████| 40/40 [00:20<00:00,  2.00it/s] \nG loss: 6080.36, D_loss : 513.59: 100%|██████████| 40/40 [00:20<00:00,  1.99it/s] \nG loss: 7607.44, D_loss : 166.69: 100%|██████████| 40/40 [00:20<00:00,  1.99it/s] \nG loss: 7178.10, D_loss : -511.19: 100%|██████████| 40/40 [00:20<00:00,  1.98it/s]\nG loss: 8023.02, D_loss : -393.23: 100%|██████████| 40/40 [00:20<00:00,  1.99it/s]\nG loss: 7662.63, D_loss : 462.70: 100%|██████████| 40/40 [00:20<00:00,  1.99it/s] \nG loss: 7407.72, D_loss : -357.20: 100%|██████████| 40/40 [00:20<00:00,  1.98it/s]\nG loss: 7242.46, D_loss : -733.46: 100%|██████████| 40/40 [00:20<00:00,  1.96it/s]\nG loss: 7358.62, D_loss : -505.63: 100%|██████████| 40/40 [00:20<00:00,  1.95it/s]\nG loss: 7308.46, D_loss : -1630.85: 100%|██████████| 40/40 [00:20<00:00,  1.93it/s]\nG loss: 7555.16, D_loss : -99.04: 100%|██████████| 40/40 [00:20<00:00,  1.96it/s] \nG loss: 7635.81, D_loss : -325.71: 100%|██████████| 40/40 [00:20<00:00,  1.99it/s]\nG loss: 7586.38, D_loss : -880.79: 100%|██████████| 40/40 [00:20<00:00,  1.96it/s]\nG loss: 7568.23, D_loss : 89.83: 100%|██████████| 40/40 [00:20<00:00,  1.94it/s]  \nG loss: 8468.13, D_loss : -480.06: 100%|██████████| 40/40 [00:20<00:00,  1.96it/s]\nG loss: 9211.18, D_loss : 133.46: 100%|██████████| 40/40 [00:20<00:00,  1.97it/s] \nG loss: 9351.58, D_loss : 158.38: 100%|██████████| 40/40 [00:20<00:00,  1.99it/s] \nG loss: 8869.50, D_loss : -14.88: 100%|██████████| 40/40 [00:20<00:00,  1.95it/s] \nG loss: 8611.18, D_loss : 126.60: 100%|██████████| 40/40 [00:20<00:00,  1.96it/s] \nG loss: 8646.09, D_loss : -410.07: 100%|██████████| 40/40 [00:20<00:00,  2.00it/s]\nG loss: 7861.12, D_loss : -573.29: 100%|██████████| 40/40 [00:20<00:00,  1.95it/s]\nG loss: 7748.81, D_loss : -256.91: 100%|██████████| 40/40 [00:20<00:00,  1.99it/s]\nG loss: 7638.84, D_loss : -511.93: 100%|██████████| 40/40 [00:19<00:00,  2.00it/s]\nG loss: 7912.50, D_loss : -216.95: 100%|██████████| 40/40 [00:20<00:00,  1.96it/s]\nG loss: 8081.71, D_loss : 849.72: 100%|██████████| 40/40 [00:20<00:00,  1.96it/s] \nG loss: 7929.31, D_loss : 154.26: 100%|██████████| 40/40 [00:20<00:00,  2.00it/s] \nG loss: 7634.57, D_loss : 1294.91: 100%|██████████| 40/40 [00:20<00:00,  1.92it/s]\nG loss: 7925.81, D_loss : -546.91: 100%|██████████| 40/40 [00:20<00:00,  1.94it/s]\nG loss: 7771.42, D_loss : -183.81: 100%|██████████| 40/40 [00:20<00:00,  2.00it/s]\nG loss: 7508.24, D_loss : -1149.69: 100%|██████████| 40/40 [00:20<00:00,  1.95it/s]\nG loss: 7403.47, D_loss : 662.37: 100%|██████████| 40/40 [00:20<00:00,  1.99it/s] \nG loss: 7010.00, D_loss : 29.16: 100%|██████████| 40/40 [00:20<00:00,  1.93it/s]  \nG loss: 7358.20, D_loss : -368.19: 100%|██████████| 40/40 [00:21<00:00,  1.90it/s]\nG loss: 6906.64, D_loss : -71.20: 100%|██████████| 40/40 [00:21<00:00,  1.90it/s] \nG loss: 6908.71, D_loss : 780.99: 100%|██████████| 40/40 [00:20<00:00,  1.93it/s] \nG loss: 7340.88, D_loss : 332.69: 100%|██████████| 40/40 [00:20<00:00,  1.94it/s] \nG loss: 7151.02, D_loss : 54.28: 100%|██████████| 40/40 [00:20<00:00,  1.98it/s]  \nG loss: 6321.60, D_loss : -468.23: 100%|██████████| 40/40 [00:20<00:00,  1.96it/s]\nG loss: 7314.51, D_loss : 194.12: 100%|██████████| 40/40 [00:20<00:00,  1.93it/s] \nG loss: 6960.22, D_loss : 580.21: 100%|██████████| 40/40 [00:20<00:00,  1.99it/s] \nG loss: 7164.31, D_loss : 222.86: 100%|██████████| 40/40 [00:20<00:00,  1.98it/s] \nG loss: 7934.86, D_loss : 548.94: 100%|██████████| 40/40 [00:20<00:00,  1.96it/s] \nG loss: 7955.13, D_loss : -67.65: 100%|██████████| 40/40 [00:19<00:00,  2.01it/s] \nG loss: 7083.92, D_loss : -120.10: 100%|██████████| 40/40 [00:20<00:00,  1.94it/s]\nG loss: 7375.91, D_loss : -160.82: 100%|██████████| 40/40 [00:20<00:00,  1.94it/s]\nG loss: 8965.86, D_loss : 493.42: 100%|██████████| 40/40 [00:20<00:00,  1.98it/s] \nG loss: 8130.10, D_loss : -369.29: 100%|██████████| 40/40 [00:20<00:00,  1.96it/s]\nG loss: 7534.65, D_loss : 1137.90: 100%|██████████| 40/40 [00:20<00:00,  1.98it/s]\nG loss: 8006.81, D_loss : -340.49: 100%|██████████| 40/40 [00:20<00:00,  1.95it/s]\nG loss: 6872.81, D_loss : -343.92: 100%|██████████| 40/40 [00:20<00:00,  1.98it/s]\nG loss: 6989.38, D_loss : -50.18: 100%|██████████| 40/40 [00:20<00:00,  1.99it/s] \nG loss: 6986.75, D_loss : 548.70: 100%|██████████| 40/40 [00:20<00:00,  1.96it/s] \nG loss: 5725.14, D_loss : 259.79: 100%|██████████| 40/40 [00:20<00:00,  1.97it/s] \nG loss: 5121.12, D_loss : -888.09: 100%|██████████| 40/40 [00:20<00:00,  1.98it/s]\nG loss: 4977.45, D_loss : 619.34: 100%|██████████| 40/40 [00:20<00:00,  1.98it/s] \nG loss: 3642.99, D_loss : -683.65: 100%|██████████| 40/40 [00:20<00:00,  1.99it/s]\nG loss: 3601.07, D_loss : 274.97: 100%|██████████| 40/40 [00:19<00:00,  2.01it/s] \nG loss: 3358.25, D_loss : 133.32: 100%|██████████| 40/40 [00:20<00:00,  1.96it/s] \nG loss: 2954.81, D_loss : -366.17: 100%|██████████| 40/40 [00:20<00:00,  1.97it/s]\nG loss: 3356.24, D_loss : -409.04: 100%|██████████| 40/40 [00:20<00:00,  1.97it/s]\nG loss: 4845.64, D_loss : 878.80: 100%|██████████| 40/40 [00:20<00:00,  1.94it/s] \nG loss: 3257.65, D_loss : 1101.96: 100%|██████████| 40/40 [00:20<00:00,  2.00it/s]\nG loss: 3618.41, D_loss : -241.66: 100%|██████████| 40/40 [00:20<00:00,  1.98it/s]\nG loss: 2425.77, D_loss : 122.02: 100%|██████████| 40/40 [00:20<00:00,  1.93it/s] \nG loss: 1685.12, D_loss : 585.92: 100%|██████████| 40/40 [00:20<00:00,  1.99it/s] \nG loss: 1799.70, D_loss : 849.32: 100%|██████████| 40/40 [00:20<00:00,  1.94it/s] \nG loss: 3090.71, D_loss : -1159.36: 100%|██████████| 40/40 [00:20<00:00,  1.97it/s]\nG loss: 3934.17, D_loss : -1842.75: 100%|██████████| 40/40 [00:19<00:00,  2.02it/s]\nG loss: 3655.61, D_loss : -1213.86: 100%|██████████| 40/40 [00:20<00:00,  1.97it/s]\nG loss: 3722.38, D_loss : 36.61: 100%|██████████| 40/40 [00:20<00:00,  1.96it/s]  \nG loss: 3775.33, D_loss : -745.88: 100%|██████████| 40/40 [00:20<00:00,  2.00it/s]\nG loss: 3950.57, D_loss : 1034.72: 100%|██████████| 40/40 [00:20<00:00,  1.95it/s]\nG loss: 4011.99, D_loss : -1325.90: 100%|██████████| 40/40 [00:20<00:00,  1.98it/s]\nG loss: 4545.10, D_loss : -823.90: 100%|██████████| 40/40 [00:20<00:00,  2.00it/s]\nG loss: 4832.92, D_loss : 166.18: 100%|██████████| 40/40 [00:20<00:00,  1.96it/s] \nG loss: 4634.71, D_loss : -216.30: 100%|██████████| 40/40 [00:19<00:00,  2.00it/s]\nG loss: 4272.04, D_loss : -202.90: 100%|██████████| 40/40 [00:20<00:00,  1.94it/s]\nG loss: 4895.06, D_loss : 183.07: 100%|██████████| 40/40 [00:20<00:00,  1.91it/s] \nG loss: 5470.54, D_loss : -185.81: 100%|██████████| 40/40 [00:20<00:00,  1.93it/s]\nG loss: 4746.63, D_loss : -240.39: 100%|██████████| 40/40 [00:20<00:00,  1.93it/s]\nG loss: 3609.68, D_loss : 180.69: 100%|██████████| 40/40 [00:20<00:00,  1.93it/s] \nG loss: 2758.99, D_loss : 82.22: 100%|██████████| 40/40 [00:20<00:00,  1.95it/s]  \nG loss: 4000.24, D_loss : -925.00: 100%|██████████| 40/40 [00:20<00:00,  1.91it/s]\nG loss: 3827.48, D_loss : -908.33: 100%|██████████| 40/40 [00:20<00:00,  1.93it/s]\nG loss: 4430.48, D_loss : -546.85: 100%|██████████| 40/40 [00:20<00:00,  1.98it/s]\nG loss: 4952.17, D_loss : -520.92: 100%|██████████| 40/40 [00:20<00:00,  1.94it/s]\nG loss: 5324.26, D_loss : 784.47: 100%|██████████| 40/40 [00:20<00:00,  1.92it/s] \nG loss: 4967.26, D_loss : 156.80: 100%|██████████| 40/40 [00:20<00:00,  1.96it/s] \nG loss: 4766.87, D_loss : 1260.11: 100%|██████████| 40/40 [00:20<00:00,  1.97it/s]\nG loss: 3361.22, D_loss : 353.17: 100%|██████████| 40/40 [00:20<00:00,  1.93it/s] \nG loss: 3368.54, D_loss : 885.31: 100%|██████████| 40/40 [00:20<00:00,  1.99it/s] \nG loss: 3505.73, D_loss : -1721.44: 100%|██████████| 40/40 [00:20<00:00,  1.96it/s]\nG loss: 1812.02, D_loss : -434.66: 100%|██████████| 40/40 [00:20<00:00,  1.99it/s]\nG loss: 2024.47, D_loss : 396.67: 100%|██████████| 40/40 [00:21<00:00,  1.87it/s] \nG loss: 1916.97, D_loss : -516.87: 100%|██████████| 40/40 [00:20<00:00,  1.98it/s]\nG loss: 2120.82, D_loss : 2091.39: 100%|██████████| 40/40 [00:20<00:00,  1.98it/s]\nG loss: 3061.84, D_loss : -578.09: 100%|██████████| 40/40 [00:20<00:00,  1.96it/s]\nG loss: 2075.15, D_loss : 406.51: 100%|██████████| 40/40 [00:19<00:00,  2.00it/s] \nG loss: 2239.29, D_loss : 907.67: 100%|██████████| 40/40 [00:20<00:00,  1.97it/s] \nG loss: 1521.11, D_loss : -1188.07: 100%|██████████| 40/40 [00:20<00:00,  1.96it/s]\nG loss: 1692.39, D_loss : 1066.63: 100%|██████████| 40/40 [00:20<00:00,  1.92it/s]\nG loss: 1851.81, D_loss : -799.54: 100%|██████████| 40/40 [00:19<00:00,  2.03it/s]\nG loss: 2000.29, D_loss : -383.02: 100%|██████████| 40/40 [00:20<00:00,  1.99it/s]\nG loss: 2545.06, D_loss : -794.52: 100%|██████████| 40/40 [00:20<00:00,  1.94it/s]\nG loss: 3114.37, D_loss : 872.10: 100%|██████████| 40/40 [00:20<00:00,  1.93it/s] \nG loss: 1737.50, D_loss : 89.86: 100%|██████████| 40/40 [00:21<00:00,  1.89it/s]  \nG loss: 1056.31, D_loss : -1267.14: 100%|██████████| 40/40 [00:21<00:00,  1.90it/s]\nG loss: 1362.77, D_loss : -336.50: 100%|██████████| 40/40 [00:20<00:00,  1.96it/s]\nG loss: 943.32, D_loss : 154.94: 100%|██████████| 40/40 [00:20<00:00,  1.95it/s]  \nG loss: 1301.99, D_loss : 919.28: 100%|██████████| 40/40 [00:20<00:00,  1.99it/s] \nG loss: 1501.94, D_loss : 390.76: 100%|██████████| 40/40 [00:20<00:00,  1.96it/s] \nG loss: 1985.41, D_loss : -157.36: 100%|██████████| 40/40 [00:20<00:00,  1.96it/s]\nG loss: 1906.01, D_loss : 1.25: 100%|██████████| 40/40 [00:19<00:00,  2.03it/s]   \nG loss: 2330.56, D_loss : 583.47: 100%|██████████| 40/40 [00:20<00:00,  1.95it/s] \nG loss: 2262.83, D_loss : 199.68: 100%|██████████| 40/40 [00:20<00:00,  1.93it/s] \nG loss: 2739.20, D_loss : 1095.51: 100%|██████████| 40/40 [00:20<00:00,  2.00it/s]\nG loss: 1189.82, D_loss : 432.07: 100%|██████████| 40/40 [00:20<00:00,  1.93it/s] \nG loss: 1085.75, D_loss : -1264.35: 100%|██████████| 40/40 [00:20<00:00,  1.96it/s]\nG loss: 1312.09, D_loss : 379.96: 100%|██████████| 40/40 [00:20<00:00,  1.99it/s] \nG loss: 924.34, D_loss : -146.04: 100%|██████████| 40/40 [00:20<00:00,  1.94it/s] \nG loss: -2.02, D_loss : -404.64: 100%|██████████| 40/40 [00:21<00:00,  1.90it/s] \nG loss: 98.21, D_loss : -251.43: 100%|██████████| 40/40 [00:20<00:00,  1.95it/s]  \nG loss: 325.79, D_loss : -972.87: 100%|██████████| 40/40 [00:20<00:00,  1.93it/s] \nG loss: 241.87, D_loss : -294.27: 100%|██████████| 40/40 [00:20<00:00,  1.96it/s] \nG loss: -890.06, D_loss : -1314.87: 100%|██████████| 40/40 [00:20<00:00,  2.00it/s]\nG loss: -1496.50, D_loss : 65.72: 100%|██████████| 40/40 [00:20<00:00,  1.94it/s]  \nG loss: -3081.49, D_loss : -348.59: 100%|██████████| 40/40 [00:19<00:00,  2.01it/s]\nG loss: -2477.99, D_loss : 1751.16: 100%|██████████| 40/40 [00:20<00:00,  1.97it/s]\nG loss: -2167.69, D_loss : 1634.21: 100%|██████████| 40/40 [00:20<00:00,  1.96it/s]\nG loss: -2538.39, D_loss : -998.36: 100%|██████████| 40/40 [00:20<00:00,  2.00it/s]\nG loss: -3688.18, D_loss : 834.53: 100%|██████████| 40/40 [00:20<00:00,  1.97it/s] \nG loss: -4033.27, D_loss : -1032.23: 100%|██████████| 40/40 [00:20<00:00,  1.92it/s]\nG loss: -3862.41, D_loss : -930.97: 100%|██████████| 40/40 [00:20<00:00,  1.98it/s]\nG loss: -4479.06, D_loss : 552.75: 100%|██████████| 40/40 [00:20<00:00,  1.93it/s] \nG loss: -2965.96, D_loss : -755.72: 100%|██████████| 40/40 [00:20<00:00,  1.94it/s]\nG loss: -3390.50, D_loss : 209.96: 100%|██████████| 40/40 [00:20<00:00,  1.97it/s] \nG loss: -2311.12, D_loss : 431.17: 100%|██████████| 40/40 [00:20<00:00,  1.97it/s] \nG loss: -1934.98, D_loss : -538.68: 100%|██████████| 40/40 [00:20<00:00,  1.96it/s]\nG loss: -2237.24, D_loss : -935.28: 100%|██████████| 40/40 [00:20<00:00,  1.98it/s]\nG loss: -1704.40, D_loss : 1064.27: 100%|██████████| 40/40 [00:20<00:00,  1.95it/s]\nG loss: -1262.78, D_loss : -323.65: 100%|██████████| 40/40 [00:20<00:00,  1.98it/s]\nG loss: -2528.52, D_loss : -724.47: 100%|██████████| 40/40 [00:20<00:00,  1.98it/s]\nG loss: -1403.09, D_loss : 115.91: 100%|██████████| 40/40 [00:20<00:00,  1.93it/s] \nG loss: -2343.21, D_loss : -639.28: 100%|██████████| 40/40 [00:20<00:00,  1.95it/s]\nG loss: -2869.50, D_loss : -96.50: 100%|██████████| 40/40 [00:20<00:00,  1.92it/s] \nG loss: -4026.41, D_loss : 429.29: 100%|██████████| 40/40 [00:21<00:00,  1.90it/s] \nG loss: -5576.77, D_loss : -326.40: 100%|██████████| 40/40 [00:20<00:00,  1.96it/s]\nG loss: -6803.87, D_loss : -777.57: 100%|██████████| 40/40 [00:21<00:00,  1.86it/s]\nG loss: -7107.14, D_loss : -230.24: 100%|██████████| 40/40 [00:21<00:00,  1.89it/s]\nG loss: -7161.42, D_loss : 410.12: 100%|██████████| 40/40 [00:20<00:00,  1.92it/s] \nG loss: -5886.66, D_loss : 67.59: 100%|██████████| 40/40 [00:20<00:00,  1.94it/s]  \nG loss: -7059.81, D_loss : -100.73: 100%|██████████| 40/40 [00:20<00:00,  1.94it/s]\nG loss: -7159.15, D_loss : -440.71:  28%|██▊       | 11/40 [00:06<00:16,  1.80it/s]\n",
          "output_type": "stream"
        },
        {
          "traceback": [
            "\u001b[0;31m---------------------------------------------------------------------------\u001b[0m",
            "\u001b[0;31mKeyboardInterrupt\u001b[0m                         Traceback (most recent call last)",
            "\u001b[0;32m/tmp/ipykernel_17/1379427137.py\u001b[0m in \u001b[0;36m<module>\u001b[0;34m\u001b[0m\n\u001b[1;32m     40\u001b[0m                 \u001b[0mnoise\u001b[0m \u001b[0;34m=\u001b[0m \u001b[0mget_noise\u001b[0m\u001b[0;34m(\u001b[0m\u001b[0;34m)\u001b[0m\u001b[0;34m\u001b[0m\u001b[0;34m\u001b[0m\u001b[0m\n\u001b[1;32m     41\u001b[0m                 \u001b[0;32mif\u001b[0m \u001b[0muse_GPU\u001b[0m\u001b[0;34m:\u001b[0m\u001b[0;34m\u001b[0m\u001b[0;34m\u001b[0m\u001b[0m\n\u001b[0;32m---> 42\u001b[0;31m                     \u001b[0mnoise\u001b[0m \u001b[0;34m=\u001b[0m \u001b[0mnoise\u001b[0m\u001b[0;34m.\u001b[0m\u001b[0mcuda\u001b[0m\u001b[0;34m(\u001b[0m\u001b[0mdevice\u001b[0m\u001b[0;34m)\u001b[0m\u001b[0;34m\u001b[0m\u001b[0;34m\u001b[0m\u001b[0m\n\u001b[0m\u001b[1;32m     43\u001b[0m                 \u001b[0mfake_data\u001b[0m \u001b[0;34m=\u001b[0m \u001b[0mg_model\u001b[0m\u001b[0;34m(\u001b[0m\u001b[0mnoise\u001b[0m\u001b[0;34m)\u001b[0m\u001b[0;34m\u001b[0m\u001b[0;34m\u001b[0m\u001b[0m\n\u001b[1;32m     44\u001b[0m                 \u001b[0mg_score\u001b[0m \u001b[0;34m=\u001b[0m \u001b[0md_model\u001b[0m\u001b[0;34m(\u001b[0m\u001b[0mfake_data\u001b[0m\u001b[0;34m)\u001b[0m\u001b[0;34m\u001b[0m\u001b[0;34m\u001b[0m\u001b[0m\n",
            "\u001b[0;31mKeyboardInterrupt\u001b[0m: "
          ],
          "ename": "KeyboardInterrupt",
          "evalue": "",
          "output_type": "error"
        }
      ]
    },
    {
      "cell_type": "code",
      "source": [
        "## generate file in repo (generate.py)"
      ],
      "metadata": {
        "id": "yBj9PeuhK5GO"
      },
      "execution_count": null,
      "outputs": []
    },
    {
      "cell_type": "code",
      "source": [
        "def generate(count_img,save_path):\n",
        "  g_model.eval()\n",
        "  noise = get_noise(count_img)\n",
        "  with torch.no_grad():\n",
        "    generated = g_model(noise).cpu()\n",
        "  for item in enumerate(generated):\n",
        "        img = ToPILImage()(item[1])\n",
        "        img.save(f'./{save_path}/{item[0]}.png')\n"
      ],
      "metadata": {
        "id": "vvMFFGKBDE3M"
      },
      "execution_count": null,
      "outputs": []
    }
  ]
}